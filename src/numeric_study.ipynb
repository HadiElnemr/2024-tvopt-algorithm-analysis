{
 "cells": [
  {
   "cell_type": "code",
   "execution_count": null,
   "metadata": {},
   "outputs": [],
   "source": [
    "import numpy as np\n",
    "import matplotlib.pyplot as plt\n",
    "\n",
    "from tqdm import tqdm\n",
    "\n",
    "%load_ext autoreload\n",
    "%autoreload 2\n",
    "%reload_ext autoreload\n",
    "\n",
    "from lib.algorithms_unconstrained import gradient_descent, nesterov, multi_step_gradient, triple_momentum\n",
    "# from lib.tracking_analysis import bisection_thm1, bisection_thm2\n",
    "import lib.tracking_analysis as ta\n",
    "from lib.utils import consistent_polytope_nd"
   ]
  },
  {
   "cell_type": "code",
   "execution_count": null,
   "metadata": {},
   "outputs": [],
   "source": [
    "# Plot settings\n",
    "plt.rcParams.update({\n",
    "    'text.usetex': True,\n",
    "    'font.family': 'serif',\n",
    "    'font.size': 12,\n",
    "    'axes.titlesize': 14,\n",
    "    'axes.labelsize': 12,\n",
    "    'legend.fontsize': 12,\n",
    "    'xtick.labelsize': 10,\n",
    "    'ytick.labelsize': 10\n",
    "})"
   ]
  },
  {
   "cell_type": "markdown",
   "metadata": {},
   "source": [
    "## Comparison of algorithms for fixed $\\overline{\\nu}$"
   ]
  },
  {
   "cell_type": "code",
   "execution_count": null,
   "metadata": {},
   "outputs": [],
   "source": [
    "L_range = np.logspace(np.log10(1/0.8 + 1e-3), 2, 10)\n",
    "\n",
    "rhos_ogd, rhos_nag, rhos_tmm = [], [], []\n",
    "\n",
    "n_grid = 2\n",
    "\n",
    "for L in tqdm(L_range):\n",
    "\n",
    "    ### Create consistent polytope grid over parameters\n",
    "    L_min, L_max = L * 0.8, L\n",
    "    grid_step = (L_max - L_min) / n_grid\n",
    "\n",
    "    params = np.linspace(L_min, L_max, n_grid + 1)\n",
    "    delta_L_max = lambda rate_bound: rate_bound * (L_max - L_min)\n",
    "\n",
    "    grid_points = consistent_polytope_nd(params, -delta_L_max(rate_bound=0.05), delta_L_max(rate_bound=0.05), step_size=grid_step)\n",
    "\n",
    "    ### Solve Bisection for every algorithm\n",
    "    rho, sol = ta.bisection_thm2(algo=gradient_descent, consistent_polytope=grid_points, optimize_sensitivities=True)\n",
    "    rhos_ogd.append((rho, sol))\n",
    "\n",
    "    rho, sol = ta.bisection_thm2(algo=nesterov, consistent_polytope=grid_points, optimize_sensitivities=True)\n",
    "    rhos_nag.append((rho, sol))\n",
    "\n",
    "    rho, sol = ta.bisection_thm2(algo=triple_momentum, consistent_polytope=grid_points, optimize_sensitivities=True)\n",
    "    rhos_tmm.append((rho, sol))\n"
   ]
  },
  {
   "cell_type": "code",
   "execution_count": null,
   "metadata": {},
   "outputs": [],
   "source": [
    "rhos_nag, rhos_ogd, rhos_tmm\n",
    "# L_range"
   ]
  },
  {
   "cell_type": "markdown",
   "metadata": {},
   "source": [
    "### Plot of decay rate $\\rho$"
   ]
  },
  {
   "cell_type": "code",
   "execution_count": null,
   "metadata": {},
   "outputs": [],
   "source": [
    "### Extract quantities to plot\n",
    "# rhos_ogd_, rhos_nag_, rhos_ogd2_, rhos_ogd3_, rhos_ogd4_, rhos_ogd5_, rhos_tmm_ = map(lambda x: np.array([rho for rho, _ in x]), [rhos_ogd, rhos_nag, rhos_ogd2, rhos_ogd3, rhos_ogd4, rhos_ogd5, rhos_agd])\n",
    "rhos_ogd_, rhos_nag_, rhos_tmm_ = map(lambda x: np.array([rho for rho, _ in x]), [rhos_ogd, rhos_nag, rhos_tmm])\n",
    "tableau10 = plt.get_cmap('tab10').colors\n",
    "\n",
    "### Plot results\n",
    "plt.semilogx(L_range[rhos_ogd_ <= 1], rhos_ogd_[rhos_ogd_ <= 1], '--+', label=r'O-GD', color=tableau10[0])\n",
    "plt.semilogx(L_range[rhos_nag_ <= 1], rhos_nag_[rhos_nag_ <= 1], '--+', label=r'O-Nesterov', color=tableau10[1])\n",
    "plt.semilogx(L_range[rhos_tmm_ <= 1], rhos_tmm_[rhos_tmm_ <= 1], '--*', label=r'O-TMM', color=tableau10[2])\n",
    "\n",
    "plt.xlabel(r'$L/m$')\n",
    "plt.ylabel(r'$\\rho$')\n",
    "\n",
    "plt.xlim([1,100])\n",
    "plt.ylim([0,1.1])\n",
    "\n",
    "plt.legend(loc='lower right')\n",
    "plt.grid()\n",
    "plt.show()\n"
   ]
  },
  {
   "cell_type": "markdown",
   "metadata": {},
   "source": [
    "### Plot of sensitivities"
   ]
  },
  {
   "cell_type": "code",
   "execution_count": null,
   "metadata": {},
   "outputs": [],
   "source": [
    "\n",
    "# Extract lambdas\n",
    "lambdas_ogd_ = np.array([sol[1] for _, sol in rhos_ogd]).flatten() * (L_range-1) * rhos_ogd_**2\n",
    "lambdas_nag_ = np.array([sol[1] for _, sol in rhos_nag]).flatten() * (L_range-1) * rhos_ogd_**2\n",
    "lambdas_tmm_ = np.array([sol[1] for _, sol in rhos_tmm]).flatten() * (L_range-1) * rhos_ogd_**2\n",
    "\n",
    "# Extract gamma_x\n",
    "gamma_x_ogd_ = np.array([sol[2] for _, sol in rhos_ogd])\n",
    "gamma_x_nag_ = np.array([sol[2] for _, sol in rhos_nag])\n",
    "gamma_x_tmm_ = np.array([sol[2] for _, sol in rhos_tmm])\n",
    "\n",
    "# Extract gamma_d\n",
    "gamma_d_ogd_ = np.array([sol[3] for _, sol in rhos_ogd])\n",
    "gamma_d_nag_ = np.array([sol[3] for _, sol in rhos_nag])\n",
    "gamma_d_tmm_ = np.array([sol[3] for _, sol in rhos_tmm])\n",
    "\n",
    "fig, axes = plt.subplots(1, 3, figsize=(15, 4), sharex=True)\n",
    "tableau10 = plt.get_cmap('tab10').colors\n",
    "\n",
    "# First subplot: lambdas\n",
    "axes[0].semilogx(L_range, lambdas_ogd_, '--+', label=r'O-GD',       color=tableau10[0])\n",
    "axes[0].semilogx(L_range, lambdas_nag_, '--+', label=r'O-Nesterov', color=tableau10[1])\n",
    "axes[0].semilogx(L_range, lambdas_tmm_, '--*', label=r'O-TMM',      color=tableau10[2])\n",
    "axes[0].set_xlabel(r'$L/m$')\n",
    "axes[0].set_ylabel(r'$\\gamma_f$')\n",
    "axes[0].grid()\n",
    "axes[0].legend()\n",
    "\n",
    "# Second subplot: gamma_x\n",
    "axes[1].semilogx(L_range, gamma_x_ogd_, '--+', label=r'O-GD',       color=tableau10[0])\n",
    "axes[1].semilogx(L_range, gamma_x_nag_, '--+', label=r'O-Nesterov', color=tableau10[1])\n",
    "axes[1].semilogx(L_range, gamma_x_tmm_, '--*', label=r'O-TMM',      color=tableau10[2])\n",
    "axes[1].set_xlabel(r'$L/m$')\n",
    "axes[1].set_ylabel(r'$\\gamma_{\\xi}$')\n",
    "axes[1].grid()\n",
    "axes[1].legend()\n",
    "\n",
    "# Third subplot: gamma_d\n",
    "axes[2].semilogx(L_range, gamma_d_ogd_, '--+', label=r'O-GD',       color=tableau10[0])\n",
    "axes[2].semilogx(L_range, gamma_d_nag_, '--+', label=r'O-Nesterov', color=tableau10[1])\n",
    "axes[2].semilogx(L_range, gamma_d_tmm_, '--*', label=r'O-TMM',      color=tableau10[2])\n",
    "axes[2].set_xlabel(r'$L/m$')\n",
    "axes[2].set_ylabel(r'$\\gamma_\\delta$')\n",
    "axes[2].grid()\n",
    "axes[2].legend()\n",
    "\n",
    "plt.tight_layout()\n",
    "plt.show()"
   ]
  },
  {
   "cell_type": "markdown",
   "metadata": {},
   "source": [
    "## Comparison of rates for different $\\overline{\\nu}$"
   ]
  },
  {
   "cell_type": "code",
   "execution_count": null,
   "metadata": {},
   "outputs": [],
   "source": [
    "L_range = np.logspace(np.log10(1/0.8 + 1e-3), 2, 10)\n",
    "\n",
    "rhos_fast_gd, rhos_middle_gd, rhos_slow_gd, rho_nom_gd = (list() for _ in range(4))\n",
    "rhos_fast_nag, rhos_middle_nag, rhos_slow_nag, rho_nom_nag = (list() for _ in range(4))\n",
    "\n",
    "n_sparse = 3\n",
    "\n",
    "for L in tqdm(L_range):\n",
    "\n",
    "    ### Create consistent polytope grid over parameters\n",
    "    L_min, L_max = L * 0.8, L\n",
    "    grid_step = (L_max - L_min) / n_sparse\n",
    "\n",
    "    params = np.linspace(L_min, L_max, n_sparse + 1)\n",
    "    delta_L_max = lambda rate_bound: rate_bound * (L_max - L_min)\n",
    "\n",
    "    grid_points_fast = consistent_polytope_nd(params, -delta_L_max(rate_bound=1), delta_L_max(rate_bound=1), step_size=grid_step)\n",
    "    grid_points_mod  = consistent_polytope_nd(params, -delta_L_max(rate_bound=0.5), delta_L_max(rate_bound=0.5), step_size=grid_step)\n",
    "    grid_points_slow = consistent_polytope_nd(params, -delta_L_max(rate_bound=0.05), delta_L_max(rate_bound=0.05), step_size=grid_step)\n",
    "    grid_static = [(np.array([L]), np.array([0]))]\n",
    "\n",
    "    ### fast parameter variations\n",
    "    rho, _ = ta.bisection_thm2(algo=gradient_descent, consistent_polytope=grid_points_fast, optimize_sensitivities=False)\n",
    "    rhos_fast_gd.append(rho)\n",
    "    rho, _ = ta.bisection_thm2(algo=nesterov, consistent_polytope=grid_points_fast, optimize_sensitivities=False)\n",
    "    rhos_fast_nag.append(rho)\n",
    "\n",
    "    ### moderate parameter variations\n",
    "    rho, _ = ta.bisection_thm2(algo=gradient_descent, consistent_polytope=grid_points_mod, optimize_sensitivities=False)\n",
    "    rhos_middle_gd.append(rho)\n",
    "    rho, _ = ta.bisection_thm2(algo=nesterov, consistent_polytope=grid_points_mod, optimize_sensitivities=False)\n",
    "    rhos_middle_nag.append(rho)\n",
    "\n",
    "    ### slow parameter variations\n",
    "    rho, _ = ta.bisection_thm2(algo=gradient_descent, consistent_polytope=grid_points_slow, optimize_sensitivities=False)\n",
    "    rhos_slow_gd.append(rho)\n",
    "    rho, _ = ta.bisection_thm2(algo=nesterov, consistent_polytope=grid_points_slow, optimize_sensitivities=False)\n",
    "    rhos_slow_nag.append(rho)\n",
    "\n",
    "    ### static\n",
    "    rho, _ = ta.bisection_thm2(algo=gradient_descent, consistent_polytope=grid_static, optimize_sensitivities=False)\n",
    "    rho_nom_gd.append(rho)\n",
    "    rho, _ = ta.bisection_thm2(algo=nesterov, consistent_polytope=grid_static, optimize_sensitivities=False)\n",
    "    rho_nom_nag.append(rho)"
   ]
  },
  {
   "cell_type": "code",
   "execution_count": null,
   "metadata": {},
   "outputs": [],
   "source": [
    "### Extract quantities to plot\n",
    "# L_range, rho_nom_gd, rhos_fast_gd, rhos_middle_gd = map(np.array, [L_range, rho_nom_gd, rhos_fast_gd, rhos_middle_gd])\n",
    "L_range, rho_nom_gd, rhos_fast_gd, rhos_middle_gd, rhos_slow_gd = map(np.array, [L_range, rho_nom_gd, rhos_fast_gd, rhos_middle_gd, rhos_slow_gd])\n",
    "# rho_nom_nag, rhos_fast_nag, rhos_middle_nag = map(np.array, [rho_nom_nag, rhos_fast_nag, rhos_middle_nag])\n",
    "rho_nom_nag, rhos_fast_nag, rhos_middle_nag, rhos_slow_nag = map(np.array, [rho_nom_nag, rhos_fast_nag, rhos_middle_nag, rhos_slow_nag])"
   ]
  },
  {
   "cell_type": "code",
   "execution_count": null,
   "metadata": {},
   "outputs": [],
   "source": [
    "tableau10 = plt.get_cmap('tab10').colors\n",
    "\n",
    "### Plot results\n",
    "plt.figure(figsize=(10,4))\n",
    "\n",
    "# Gradient Descent\n",
    "plt.subplot(1,2,1)\n",
    "plt.semilogx(L_range[rhos_fast_gd <= 1],   rhos_fast_gd[rhos_fast_gd <= 1],     '--+', label=r'Fast variation ($\\overline{\\nu} = \\nu_{\\max}$)',      color=tableau10[0])\n",
    "plt.semilogx(L_range[rhos_middle_gd <= 1], rhos_middle_gd[rhos_middle_gd <= 1], '--+', label=r'Mod. variation ($\\overline{\\nu} = 0.5\\nu_{\\max}$)',   color=tableau10[1])\n",
    "plt.semilogx(L_range[rhos_slow_gd <= 1],   rhos_slow_gd[rhos_slow_gd <= 1],     '--*', label=r'Slow variation ($\\overline{\\nu} = 0.05\\nu_{\\max}$)',  color=tableau10[2])\n",
    "plt.semilogx(L_range[rho_nom_gd <= 1],     rho_nom_gd[rho_nom_gd <= 1],         '--*', label=r'Nominal',                                            color=tableau10[3])\n",
    "\n",
    "plt.xlabel(r'$L/m$')\n",
    "plt.ylabel(r'$\\rho$')\n",
    "plt.xlim([1, 100])\n",
    "plt.ylim([0, 1.1])\n",
    "plt.legend(loc='lower right')\n",
    "plt.grid()\n",
    "plt.title('Gradient descent')\n",
    "\n",
    "# Nesterov\n",
    "plt.subplot(1,2,2)\n",
    "plt.semilogx(L_range[rhos_fast_nag <= 1],   rhos_fast_nag[rhos_fast_nag <= 1],     '--+', label=r'Fast variation ($\\overline{\\nu} = \\nu_{\\max}$)',      color=tableau10[0])\n",
    "plt.semilogx(L_range[rhos_middle_nag <= 1], rhos_middle_nag[rhos_middle_nag <= 1], '--+', label=r'Mod. variation ($\\overline{\\nu} = 0.5\\nu_{\\max}$)',   color=tableau10[1])\n",
    "plt.semilogx(L_range[rhos_slow_nag <= 1],   rhos_slow_nag[rhos_slow_nag <= 1],     '--*', label=r'Slow variation ($\\overline{\\nu} = 0.05\\nu_{\\max}$)',  color=tableau10[2])\n",
    "plt.semilogx(L_range[rho_nom_nag <= 1],     rho_nom_nag[rho_nom_nag <= 1],         '--*', label=r'Nominal',                                            color=tableau10[3])\n",
    "\n",
    "plt.xlabel(r'$L/m$')\n",
    "plt.ylabel(r'$\\rho$')\n",
    "plt.xlim([1, 100])\n",
    "plt.ylim([0, 1.1])\n",
    "plt.legend(loc='lower right')\n",
    "plt.grid()\n",
    "plt.title('Nesterov')\n",
    "\n",
    "plt.show()\n"
   ]
  }
 ],
 "metadata": {
  "kernelspec": {
   "display_name": ".venv",
   "language": "python",
   "name": "python3"
  },
  "language_info": {
   "codemirror_mode": {
    "name": "ipython",
    "version": 3
   },
   "file_extension": ".py",
   "mimetype": "text/x-python",
   "name": "python",
   "nbconvert_exporter": "python",
   "pygments_lexer": "ipython3",
   "version": "3.10.18"
  }
 },
 "nbformat": 4,
 "nbformat_minor": 4
}
